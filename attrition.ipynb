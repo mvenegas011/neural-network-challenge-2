{
  "cells": [
    {
      "cell_type": "markdown",
      "metadata": {
        "id": "alIIEHibGc3M"
      },
      "source": [
        "## Part 1: Preprocessing"
      ]
    },
    {
      "cell_type": "code",
      "execution_count": 22,
      "metadata": {
        "colab": {
          "base_uri": "https://localhost:8080/",
          "height": 325
        },
        "id": "6eDUJ4NtGc3P",
        "outputId": "1317a5e0-19a8-4ab0-8300-a93b6cef1b5c"
      },
      "outputs": [
        {
          "output_type": "execute_result",
          "data": {
            "text/plain": [
              "   Age Attrition     BusinessTravel              Department  DistanceFromHome  \\\n",
              "0   41       Yes      Travel_Rarely                   Sales                 1   \n",
              "1   49        No  Travel_Frequently  Research & Development                 8   \n",
              "2   37       Yes      Travel_Rarely  Research & Development                 2   \n",
              "3   33        No  Travel_Frequently  Research & Development                 3   \n",
              "4   27        No      Travel_Rarely  Research & Development                 2   \n",
              "\n",
              "   Education EducationField  EnvironmentSatisfaction  HourlyRate  \\\n",
              "0          2  Life Sciences                        2          94   \n",
              "1          1  Life Sciences                        3          61   \n",
              "2          2          Other                        4          92   \n",
              "3          4  Life Sciences                        4          56   \n",
              "4          1        Medical                        1          40   \n",
              "\n",
              "   JobInvolvement  ...  PerformanceRating RelationshipSatisfaction  \\\n",
              "0               3  ...                  3                        1   \n",
              "1               2  ...                  4                        4   \n",
              "2               2  ...                  3                        2   \n",
              "3               3  ...                  3                        3   \n",
              "4               3  ...                  3                        4   \n",
              "\n",
              "   StockOptionLevel TotalWorkingYears  TrainingTimesLastYear WorkLifeBalance  \\\n",
              "0                 0                 8                      0               1   \n",
              "1                 1                10                      3               3   \n",
              "2                 0                 7                      3               3   \n",
              "3                 0                 8                      3               3   \n",
              "4                 1                 6                      3               3   \n",
              "\n",
              "   YearsAtCompany  YearsInCurrentRole  YearsSinceLastPromotion  \\\n",
              "0               6                   4                        0   \n",
              "1              10                   7                        1   \n",
              "2               0                   0                        0   \n",
              "3               8                   7                        3   \n",
              "4               2                   2                        2   \n",
              "\n",
              "   YearsWithCurrManager  \n",
              "0                     5  \n",
              "1                     7  \n",
              "2                     0  \n",
              "3                     0  \n",
              "4                     2  \n",
              "\n",
              "[5 rows x 27 columns]"
            ],
            "text/html": [
              "\n",
              "  <div id=\"df-9ef76a4a-8074-45fb-a5ce-f54a05875dbe\" class=\"colab-df-container\">\n",
              "    <div>\n",
              "<style scoped>\n",
              "    .dataframe tbody tr th:only-of-type {\n",
              "        vertical-align: middle;\n",
              "    }\n",
              "\n",
              "    .dataframe tbody tr th {\n",
              "        vertical-align: top;\n",
              "    }\n",
              "\n",
              "    .dataframe thead th {\n",
              "        text-align: right;\n",
              "    }\n",
              "</style>\n",
              "<table border=\"1\" class=\"dataframe\">\n",
              "  <thead>\n",
              "    <tr style=\"text-align: right;\">\n",
              "      <th></th>\n",
              "      <th>Age</th>\n",
              "      <th>Attrition</th>\n",
              "      <th>BusinessTravel</th>\n",
              "      <th>Department</th>\n",
              "      <th>DistanceFromHome</th>\n",
              "      <th>Education</th>\n",
              "      <th>EducationField</th>\n",
              "      <th>EnvironmentSatisfaction</th>\n",
              "      <th>HourlyRate</th>\n",
              "      <th>JobInvolvement</th>\n",
              "      <th>...</th>\n",
              "      <th>PerformanceRating</th>\n",
              "      <th>RelationshipSatisfaction</th>\n",
              "      <th>StockOptionLevel</th>\n",
              "      <th>TotalWorkingYears</th>\n",
              "      <th>TrainingTimesLastYear</th>\n",
              "      <th>WorkLifeBalance</th>\n",
              "      <th>YearsAtCompany</th>\n",
              "      <th>YearsInCurrentRole</th>\n",
              "      <th>YearsSinceLastPromotion</th>\n",
              "      <th>YearsWithCurrManager</th>\n",
              "    </tr>\n",
              "  </thead>\n",
              "  <tbody>\n",
              "    <tr>\n",
              "      <th>0</th>\n",
              "      <td>41</td>\n",
              "      <td>Yes</td>\n",
              "      <td>Travel_Rarely</td>\n",
              "      <td>Sales</td>\n",
              "      <td>1</td>\n",
              "      <td>2</td>\n",
              "      <td>Life Sciences</td>\n",
              "      <td>2</td>\n",
              "      <td>94</td>\n",
              "      <td>3</td>\n",
              "      <td>...</td>\n",
              "      <td>3</td>\n",
              "      <td>1</td>\n",
              "      <td>0</td>\n",
              "      <td>8</td>\n",
              "      <td>0</td>\n",
              "      <td>1</td>\n",
              "      <td>6</td>\n",
              "      <td>4</td>\n",
              "      <td>0</td>\n",
              "      <td>5</td>\n",
              "    </tr>\n",
              "    <tr>\n",
              "      <th>1</th>\n",
              "      <td>49</td>\n",
              "      <td>No</td>\n",
              "      <td>Travel_Frequently</td>\n",
              "      <td>Research &amp; Development</td>\n",
              "      <td>8</td>\n",
              "      <td>1</td>\n",
              "      <td>Life Sciences</td>\n",
              "      <td>3</td>\n",
              "      <td>61</td>\n",
              "      <td>2</td>\n",
              "      <td>...</td>\n",
              "      <td>4</td>\n",
              "      <td>4</td>\n",
              "      <td>1</td>\n",
              "      <td>10</td>\n",
              "      <td>3</td>\n",
              "      <td>3</td>\n",
              "      <td>10</td>\n",
              "      <td>7</td>\n",
              "      <td>1</td>\n",
              "      <td>7</td>\n",
              "    </tr>\n",
              "    <tr>\n",
              "      <th>2</th>\n",
              "      <td>37</td>\n",
              "      <td>Yes</td>\n",
              "      <td>Travel_Rarely</td>\n",
              "      <td>Research &amp; Development</td>\n",
              "      <td>2</td>\n",
              "      <td>2</td>\n",
              "      <td>Other</td>\n",
              "      <td>4</td>\n",
              "      <td>92</td>\n",
              "      <td>2</td>\n",
              "      <td>...</td>\n",
              "      <td>3</td>\n",
              "      <td>2</td>\n",
              "      <td>0</td>\n",
              "      <td>7</td>\n",
              "      <td>3</td>\n",
              "      <td>3</td>\n",
              "      <td>0</td>\n",
              "      <td>0</td>\n",
              "      <td>0</td>\n",
              "      <td>0</td>\n",
              "    </tr>\n",
              "    <tr>\n",
              "      <th>3</th>\n",
              "      <td>33</td>\n",
              "      <td>No</td>\n",
              "      <td>Travel_Frequently</td>\n",
              "      <td>Research &amp; Development</td>\n",
              "      <td>3</td>\n",
              "      <td>4</td>\n",
              "      <td>Life Sciences</td>\n",
              "      <td>4</td>\n",
              "      <td>56</td>\n",
              "      <td>3</td>\n",
              "      <td>...</td>\n",
              "      <td>3</td>\n",
              "      <td>3</td>\n",
              "      <td>0</td>\n",
              "      <td>8</td>\n",
              "      <td>3</td>\n",
              "      <td>3</td>\n",
              "      <td>8</td>\n",
              "      <td>7</td>\n",
              "      <td>3</td>\n",
              "      <td>0</td>\n",
              "    </tr>\n",
              "    <tr>\n",
              "      <th>4</th>\n",
              "      <td>27</td>\n",
              "      <td>No</td>\n",
              "      <td>Travel_Rarely</td>\n",
              "      <td>Research &amp; Development</td>\n",
              "      <td>2</td>\n",
              "      <td>1</td>\n",
              "      <td>Medical</td>\n",
              "      <td>1</td>\n",
              "      <td>40</td>\n",
              "      <td>3</td>\n",
              "      <td>...</td>\n",
              "      <td>3</td>\n",
              "      <td>4</td>\n",
              "      <td>1</td>\n",
              "      <td>6</td>\n",
              "      <td>3</td>\n",
              "      <td>3</td>\n",
              "      <td>2</td>\n",
              "      <td>2</td>\n",
              "      <td>2</td>\n",
              "      <td>2</td>\n",
              "    </tr>\n",
              "  </tbody>\n",
              "</table>\n",
              "<p>5 rows × 27 columns</p>\n",
              "</div>\n",
              "    <div class=\"colab-df-buttons\">\n",
              "\n",
              "  <div class=\"colab-df-container\">\n",
              "    <button class=\"colab-df-convert\" onclick=\"convertToInteractive('df-9ef76a4a-8074-45fb-a5ce-f54a05875dbe')\"\n",
              "            title=\"Convert this dataframe to an interactive table.\"\n",
              "            style=\"display:none;\">\n",
              "\n",
              "  <svg xmlns=\"http://www.w3.org/2000/svg\" height=\"24px\" viewBox=\"0 -960 960 960\">\n",
              "    <path d=\"M120-120v-720h720v720H120Zm60-500h600v-160H180v160Zm220 220h160v-160H400v160Zm0 220h160v-160H400v160ZM180-400h160v-160H180v160Zm440 0h160v-160H620v160ZM180-180h160v-160H180v160Zm440 0h160v-160H620v160Z\"/>\n",
              "  </svg>\n",
              "    </button>\n",
              "\n",
              "  <style>\n",
              "    .colab-df-container {\n",
              "      display:flex;\n",
              "      gap: 12px;\n",
              "    }\n",
              "\n",
              "    .colab-df-convert {\n",
              "      background-color: #E8F0FE;\n",
              "      border: none;\n",
              "      border-radius: 50%;\n",
              "      cursor: pointer;\n",
              "      display: none;\n",
              "      fill: #1967D2;\n",
              "      height: 32px;\n",
              "      padding: 0 0 0 0;\n",
              "      width: 32px;\n",
              "    }\n",
              "\n",
              "    .colab-df-convert:hover {\n",
              "      background-color: #E2EBFA;\n",
              "      box-shadow: 0px 1px 2px rgba(60, 64, 67, 0.3), 0px 1px 3px 1px rgba(60, 64, 67, 0.15);\n",
              "      fill: #174EA6;\n",
              "    }\n",
              "\n",
              "    .colab-df-buttons div {\n",
              "      margin-bottom: 4px;\n",
              "    }\n",
              "\n",
              "    [theme=dark] .colab-df-convert {\n",
              "      background-color: #3B4455;\n",
              "      fill: #D2E3FC;\n",
              "    }\n",
              "\n",
              "    [theme=dark] .colab-df-convert:hover {\n",
              "      background-color: #434B5C;\n",
              "      box-shadow: 0px 1px 3px 1px rgba(0, 0, 0, 0.15);\n",
              "      filter: drop-shadow(0px 1px 2px rgba(0, 0, 0, 0.3));\n",
              "      fill: #FFFFFF;\n",
              "    }\n",
              "  </style>\n",
              "\n",
              "    <script>\n",
              "      const buttonEl =\n",
              "        document.querySelector('#df-9ef76a4a-8074-45fb-a5ce-f54a05875dbe button.colab-df-convert');\n",
              "      buttonEl.style.display =\n",
              "        google.colab.kernel.accessAllowed ? 'block' : 'none';\n",
              "\n",
              "      async function convertToInteractive(key) {\n",
              "        const element = document.querySelector('#df-9ef76a4a-8074-45fb-a5ce-f54a05875dbe');\n",
              "        const dataTable =\n",
              "          await google.colab.kernel.invokeFunction('convertToInteractive',\n",
              "                                                    [key], {});\n",
              "        if (!dataTable) return;\n",
              "\n",
              "        const docLinkHtml = 'Like what you see? Visit the ' +\n",
              "          '<a target=\"_blank\" href=https://colab.research.google.com/notebooks/data_table.ipynb>data table notebook</a>'\n",
              "          + ' to learn more about interactive tables.';\n",
              "        element.innerHTML = '';\n",
              "        dataTable['output_type'] = 'display_data';\n",
              "        await google.colab.output.renderOutput(dataTable, element);\n",
              "        const docLink = document.createElement('div');\n",
              "        docLink.innerHTML = docLinkHtml;\n",
              "        element.appendChild(docLink);\n",
              "      }\n",
              "    </script>\n",
              "  </div>\n",
              "\n",
              "\n",
              "<div id=\"df-a76ae64b-ac30-4b27-b3f5-af1ff81ebaa5\">\n",
              "  <button class=\"colab-df-quickchart\" onclick=\"quickchart('df-a76ae64b-ac30-4b27-b3f5-af1ff81ebaa5')\"\n",
              "            title=\"Suggest charts\"\n",
              "            style=\"display:none;\">\n",
              "\n",
              "<svg xmlns=\"http://www.w3.org/2000/svg\" height=\"24px\"viewBox=\"0 0 24 24\"\n",
              "     width=\"24px\">\n",
              "    <g>\n",
              "        <path d=\"M19 3H5c-1.1 0-2 .9-2 2v14c0 1.1.9 2 2 2h14c1.1 0 2-.9 2-2V5c0-1.1-.9-2-2-2zM9 17H7v-7h2v7zm4 0h-2V7h2v10zm4 0h-2v-4h2v4z\"/>\n",
              "    </g>\n",
              "</svg>\n",
              "  </button>\n",
              "\n",
              "<style>\n",
              "  .colab-df-quickchart {\n",
              "      --bg-color: #E8F0FE;\n",
              "      --fill-color: #1967D2;\n",
              "      --hover-bg-color: #E2EBFA;\n",
              "      --hover-fill-color: #174EA6;\n",
              "      --disabled-fill-color: #AAA;\n",
              "      --disabled-bg-color: #DDD;\n",
              "  }\n",
              "\n",
              "  [theme=dark] .colab-df-quickchart {\n",
              "      --bg-color: #3B4455;\n",
              "      --fill-color: #D2E3FC;\n",
              "      --hover-bg-color: #434B5C;\n",
              "      --hover-fill-color: #FFFFFF;\n",
              "      --disabled-bg-color: #3B4455;\n",
              "      --disabled-fill-color: #666;\n",
              "  }\n",
              "\n",
              "  .colab-df-quickchart {\n",
              "    background-color: var(--bg-color);\n",
              "    border: none;\n",
              "    border-radius: 50%;\n",
              "    cursor: pointer;\n",
              "    display: none;\n",
              "    fill: var(--fill-color);\n",
              "    height: 32px;\n",
              "    padding: 0;\n",
              "    width: 32px;\n",
              "  }\n",
              "\n",
              "  .colab-df-quickchart:hover {\n",
              "    background-color: var(--hover-bg-color);\n",
              "    box-shadow: 0 1px 2px rgba(60, 64, 67, 0.3), 0 1px 3px 1px rgba(60, 64, 67, 0.15);\n",
              "    fill: var(--button-hover-fill-color);\n",
              "  }\n",
              "\n",
              "  .colab-df-quickchart-complete:disabled,\n",
              "  .colab-df-quickchart-complete:disabled:hover {\n",
              "    background-color: var(--disabled-bg-color);\n",
              "    fill: var(--disabled-fill-color);\n",
              "    box-shadow: none;\n",
              "  }\n",
              "\n",
              "  .colab-df-spinner {\n",
              "    border: 2px solid var(--fill-color);\n",
              "    border-color: transparent;\n",
              "    border-bottom-color: var(--fill-color);\n",
              "    animation:\n",
              "      spin 1s steps(1) infinite;\n",
              "  }\n",
              "\n",
              "  @keyframes spin {\n",
              "    0% {\n",
              "      border-color: transparent;\n",
              "      border-bottom-color: var(--fill-color);\n",
              "      border-left-color: var(--fill-color);\n",
              "    }\n",
              "    20% {\n",
              "      border-color: transparent;\n",
              "      border-left-color: var(--fill-color);\n",
              "      border-top-color: var(--fill-color);\n",
              "    }\n",
              "    30% {\n",
              "      border-color: transparent;\n",
              "      border-left-color: var(--fill-color);\n",
              "      border-top-color: var(--fill-color);\n",
              "      border-right-color: var(--fill-color);\n",
              "    }\n",
              "    40% {\n",
              "      border-color: transparent;\n",
              "      border-right-color: var(--fill-color);\n",
              "      border-top-color: var(--fill-color);\n",
              "    }\n",
              "    60% {\n",
              "      border-color: transparent;\n",
              "      border-right-color: var(--fill-color);\n",
              "    }\n",
              "    80% {\n",
              "      border-color: transparent;\n",
              "      border-right-color: var(--fill-color);\n",
              "      border-bottom-color: var(--fill-color);\n",
              "    }\n",
              "    90% {\n",
              "      border-color: transparent;\n",
              "      border-bottom-color: var(--fill-color);\n",
              "    }\n",
              "  }\n",
              "</style>\n",
              "\n",
              "  <script>\n",
              "    async function quickchart(key) {\n",
              "      const quickchartButtonEl =\n",
              "        document.querySelector('#' + key + ' button');\n",
              "      quickchartButtonEl.disabled = true;  // To prevent multiple clicks.\n",
              "      quickchartButtonEl.classList.add('colab-df-spinner');\n",
              "      try {\n",
              "        const charts = await google.colab.kernel.invokeFunction(\n",
              "            'suggestCharts', [key], {});\n",
              "      } catch (error) {\n",
              "        console.error('Error during call to suggestCharts:', error);\n",
              "      }\n",
              "      quickchartButtonEl.classList.remove('colab-df-spinner');\n",
              "      quickchartButtonEl.classList.add('colab-df-quickchart-complete');\n",
              "    }\n",
              "    (() => {\n",
              "      let quickchartButtonEl =\n",
              "        document.querySelector('#df-a76ae64b-ac30-4b27-b3f5-af1ff81ebaa5 button');\n",
              "      quickchartButtonEl.style.display =\n",
              "        google.colab.kernel.accessAllowed ? 'block' : 'none';\n",
              "    })();\n",
              "  </script>\n",
              "</div>\n",
              "\n",
              "    </div>\n",
              "  </div>\n"
            ],
            "application/vnd.google.colaboratory.intrinsic+json": {
              "type": "dataframe",
              "variable_name": "attrition_df"
            }
          },
          "metadata": {},
          "execution_count": 22
        }
      ],
      "source": [
        "# Import our dependencies\n",
        "from sklearn.model_selection import train_test_split\n",
        "from sklearn.preprocessing import StandardScaler, OneHotEncoder, LabelEncoder\n",
        "import pandas as pd\n",
        "import numpy as np\n",
        "from tensorflow.keras.models import Model\n",
        "from tensorflow.keras import layers\n",
        "\n",
        "#  Import and read the attrition data\n",
        "attrition_df = pd.read_csv('https://static.bc-edx.com/ai/ail-v-1-0/m19/lms/datasets/attrition.csv')\n",
        "attrition_df.head()"
      ]
    },
    {
      "cell_type": "code",
      "execution_count": 2,
      "metadata": {
        "colab": {
          "base_uri": "https://localhost:8080/"
        },
        "id": "g22aQSY4Gc3Q",
        "outputId": "23c7251c-4de7-436b-9a34-ee52446b9e6b"
      },
      "outputs": [
        {
          "output_type": "execute_result",
          "data": {
            "text/plain": [
              "Age                         43\n",
              "Attrition                    2\n",
              "BusinessTravel               3\n",
              "Department                   3\n",
              "DistanceFromHome            29\n",
              "Education                    5\n",
              "EducationField               6\n",
              "EnvironmentSatisfaction      4\n",
              "HourlyRate                  71\n",
              "JobInvolvement               4\n",
              "JobLevel                     5\n",
              "JobRole                      9\n",
              "JobSatisfaction              4\n",
              "MaritalStatus                3\n",
              "NumCompaniesWorked          10\n",
              "OverTime                     2\n",
              "PercentSalaryHike           15\n",
              "PerformanceRating            2\n",
              "RelationshipSatisfaction     4\n",
              "StockOptionLevel             4\n",
              "TotalWorkingYears           40\n",
              "TrainingTimesLastYear        7\n",
              "WorkLifeBalance              4\n",
              "YearsAtCompany              37\n",
              "YearsInCurrentRole          19\n",
              "YearsSinceLastPromotion     16\n",
              "YearsWithCurrManager        18\n",
              "dtype: int64"
            ]
          },
          "metadata": {},
          "execution_count": 2
        }
      ],
      "source": [
        "# Determine the number of unique values in each column.\n",
        "attrition_df.nunique()"
      ]
    },
    {
      "cell_type": "code",
      "source": [
        "attrition_df.info()"
      ],
      "metadata": {
        "colab": {
          "base_uri": "https://localhost:8080/"
        },
        "id": "BLvfGBl3Za_H",
        "outputId": "7c6f19ef-f8de-465e-f9d9-8599bac243af"
      },
      "execution_count": 3,
      "outputs": [
        {
          "output_type": "stream",
          "name": "stdout",
          "text": [
            "<class 'pandas.core.frame.DataFrame'>\n",
            "RangeIndex: 1470 entries, 0 to 1469\n",
            "Data columns (total 27 columns):\n",
            " #   Column                    Non-Null Count  Dtype \n",
            "---  ------                    --------------  ----- \n",
            " 0   Age                       1470 non-null   int64 \n",
            " 1   Attrition                 1470 non-null   object\n",
            " 2   BusinessTravel            1470 non-null   object\n",
            " 3   Department                1470 non-null   object\n",
            " 4   DistanceFromHome          1470 non-null   int64 \n",
            " 5   Education                 1470 non-null   int64 \n",
            " 6   EducationField            1470 non-null   object\n",
            " 7   EnvironmentSatisfaction   1470 non-null   int64 \n",
            " 8   HourlyRate                1470 non-null   int64 \n",
            " 9   JobInvolvement            1470 non-null   int64 \n",
            " 10  JobLevel                  1470 non-null   int64 \n",
            " 11  JobRole                   1470 non-null   object\n",
            " 12  JobSatisfaction           1470 non-null   int64 \n",
            " 13  MaritalStatus             1470 non-null   object\n",
            " 14  NumCompaniesWorked        1470 non-null   int64 \n",
            " 15  OverTime                  1470 non-null   object\n",
            " 16  PercentSalaryHike         1470 non-null   int64 \n",
            " 17  PerformanceRating         1470 non-null   int64 \n",
            " 18  RelationshipSatisfaction  1470 non-null   int64 \n",
            " 19  StockOptionLevel          1470 non-null   int64 \n",
            " 20  TotalWorkingYears         1470 non-null   int64 \n",
            " 21  TrainingTimesLastYear     1470 non-null   int64 \n",
            " 22  WorkLifeBalance           1470 non-null   int64 \n",
            " 23  YearsAtCompany            1470 non-null   int64 \n",
            " 24  YearsInCurrentRole        1470 non-null   int64 \n",
            " 25  YearsSinceLastPromotion   1470 non-null   int64 \n",
            " 26  YearsWithCurrManager      1470 non-null   int64 \n",
            "dtypes: int64(20), object(7)\n",
            "memory usage: 310.2+ KB\n"
          ]
        }
      ]
    },
    {
      "cell_type": "code",
      "execution_count": 4,
      "metadata": {
        "id": "50vMgBEnJbfM"
      },
      "outputs": [],
      "source": [
        "# Create y_df with the Attrition and Department columns\n",
        "y_df = attrition_df[['Attrition', 'Department']]\n"
      ]
    },
    {
      "cell_type": "code",
      "source": [
        "columns = attrition_df.columns\n",
        "columns"
      ],
      "metadata": {
        "colab": {
          "base_uri": "https://localhost:8080/"
        },
        "id": "6E189aeyZpcx",
        "outputId": "a98e339f-1ec0-4c4c-bc81-fa5f9a9e475b"
      },
      "execution_count": 7,
      "outputs": [
        {
          "output_type": "execute_result",
          "data": {
            "text/plain": [
              "Index(['Age', 'Attrition', 'BusinessTravel', 'Department', 'DistanceFromHome',\n",
              "       'Education', 'EducationField', 'EnvironmentSatisfaction', 'HourlyRate',\n",
              "       'JobInvolvement', 'JobLevel', 'JobRole', 'JobSatisfaction',\n",
              "       'MaritalStatus', 'NumCompaniesWorked', 'OverTime', 'PercentSalaryHike',\n",
              "       'PerformanceRating', 'RelationshipSatisfaction', 'StockOptionLevel',\n",
              "       'TotalWorkingYears', 'TrainingTimesLastYear', 'WorkLifeBalance',\n",
              "       'YearsAtCompany', 'YearsInCurrentRole', 'YearsSinceLastPromotion',\n",
              "       'YearsWithCurrManager'],\n",
              "      dtype='object')"
            ]
          },
          "metadata": {},
          "execution_count": 7
        }
      ]
    },
    {
      "cell_type": "code",
      "execution_count": 15,
      "metadata": {
        "colab": {
          "base_uri": "https://localhost:8080/"
        },
        "id": "Virka0zLGc3R",
        "outputId": "6eff4647-09fa-48c3-d285-44e27a592723"
      },
      "outputs": [
        {
          "output_type": "execute_result",
          "data": {
            "text/plain": [
              "Education                   int64\n",
              "DistanceFromHome            int64\n",
              "HourlyRate                  int64\n",
              "JobSatisfaction             int64\n",
              "PercentSalaryHike           int64\n",
              "TotalWorkingYears           int64\n",
              "WorkLifeBalance             int64\n",
              "YearsAtCompany              int64\n",
              "YearsInCurrentRole          int64\n",
              "YearsSinceLastPromotion     int64\n",
              "RelationshipSatisfaction    int64\n",
              "dtype: object"
            ]
          },
          "metadata": {},
          "execution_count": 15
        }
      ],
      "source": [
        "# Create a list of at least 10 column names to use as X data\n",
        "mycolumns = ['Education', 'DistanceFromHome', 'HourlyRate', 'JobSatisfaction', 'PercentSalaryHike','TotalWorkingYears', 'WorkLifeBalance', 'YearsAtCompany', 'YearsInCurrentRole', 'YearsSinceLastPromotion','RelationshipSatisfaction']\n",
        "\n",
        "# Create X_df using your selected columns\n",
        "X_df = attrition_df[mycolumns]\n",
        "\n",
        "# Show the data types for X_df\n",
        "X_df.dtypes\n"
      ]
    },
    {
      "cell_type": "code",
      "source": [
        "y_attrition = attrition_df['Attrition'].values.reshape(-1, 1)\n",
        "y_department = attrition_df['Department'].values.reshape(-1, 1)"
      ],
      "metadata": {
        "id": "gmh7ZcYGeMc3"
      },
      "execution_count": 17,
      "outputs": []
    },
    {
      "cell_type": "code",
      "execution_count": 18,
      "metadata": {
        "id": "KaJfdOGUMHMR"
      },
      "outputs": [],
      "source": [
        "# Split the data into training and testing sets\n",
        "from sklearn.model_selection import train_test_split\n",
        "\n",
        "X_train, X_test, y_attrition_train, y_attrition_test, y_department_train, y_department_test = train_test_split(X_df, y_attrition, y_department, test_size=0.2, random_state=42)\n"
      ]
    },
    {
      "cell_type": "code",
      "execution_count": 19,
      "metadata": {
        "id": "NYubUJqiLCSp"
      },
      "outputs": [],
      "source": [
        "# Convert your X data to numeric data types however you see fit\n",
        "# Add new code cells as necessary\n"
      ]
    },
    {
      "cell_type": "code",
      "execution_count": 20,
      "metadata": {
        "id": "EWA-aIA5Gc3T"
      },
      "outputs": [],
      "source": [
        "# Create a StandardScaler\n",
        "scaler = StandardScaler()\n",
        "\n",
        "# Fit the StandardScaler to the training data\n",
        "scaler.fit(X_train)\n",
        "\n",
        "# Scale the training and testing data\n",
        "X_train_scaled = scaler.transform(X_train)\n",
        "X_test_scaled = scaler.transform(X_test)"
      ]
    },
    {
      "cell_type": "code",
      "execution_count": 25,
      "metadata": {
        "id": "-z0Mky8vQSz4"
      },
      "outputs": [],
      "source": [
        "# Create a OneHotEncoder for the Department column\n",
        "D_encoder = OneHotEncoder(sparse_output=False)\n",
        "\n",
        "# Fit the encoder to the training data\n",
        "D_encoder.fit(y_department_train)\n",
        "\n",
        "# Create two new variables by applying the encoder\n",
        "# to the training and testing data\n",
        "y_D_train_encoded = D_encoder.transform(y_department_train)\n",
        "y_D_test_encoded = D_encoder.transform(y_department_test)"
      ]
    },
    {
      "cell_type": "code",
      "execution_count": 26,
      "metadata": {
        "colab": {
          "base_uri": "https://localhost:8080/"
        },
        "id": "-G4DSpvFRrk4",
        "outputId": "29e1229a-63a9-4834-9470-984166b4d47a"
      },
      "outputs": [
        {
          "output_type": "stream",
          "name": "stderr",
          "text": [
            "/usr/local/lib/python3.10/dist-packages/sklearn/preprocessing/_label.py:116: DataConversionWarning: A column-vector y was passed when a 1d array was expected. Please change the shape of y to (n_samples, ), for example using ravel().\n",
            "  y = column_or_1d(y, warn=True)\n",
            "/usr/local/lib/python3.10/dist-packages/sklearn/preprocessing/_label.py:134: DataConversionWarning: A column-vector y was passed when a 1d array was expected. Please change the shape of y to (n_samples, ), for example using ravel().\n",
            "  y = column_or_1d(y, dtype=self.classes_.dtype, warn=True)\n"
          ]
        }
      ],
      "source": [
        "# Create a OneHotEncoder for the Attrition column\n",
        "# Fit the encoder to the training data\n",
        "# Create two new variables by applying the encoder\n",
        "# to the training and testing data\n",
        "encoder = LabelEncoder()\n",
        "\n",
        "y_attr_train_encoded = encoder.fit_transform(y_attrition_train)\n",
        "y_attr_test_encoded = encoder.transform(y_attrition_test)\n"
      ]
    },
    {
      "cell_type": "markdown",
      "metadata": {
        "id": "ykNmu_WWGc3T"
      },
      "source": [
        "## Create, Compile, and Train the Model"
      ]
    },
    {
      "cell_type": "code",
      "execution_count": 27,
      "metadata": {
        "id": "WUptZqmSGc3T"
      },
      "outputs": [],
      "source": [
        "# Find the number of columns in the X training data\n",
        "columns =X_df.shape[1]\n",
        "\n",
        "# Create the input layer\n",
        "input_layer = layers.Input(shape=(X_df.shape[1],), name='input_features')\n",
        "\n",
        "# Create at least two shared layers\n",
        "shared1 = layers.Dense(24, activation='relu')(input_layer)\n",
        "shared2 = layers.Dense(12, activation='relu')(shared1)"
      ]
    },
    {
      "cell_type": "code",
      "execution_count": 28,
      "metadata": {
        "id": "JukjTm2yTEqd"
      },
      "outputs": [],
      "source": [
        "# Create a branch for Department\n",
        "# with a hidden layer and an output layer\n",
        "\n",
        "# Create the hidden layer\n",
        "department_hidden = layers.Dense(12, activation='relu', name='department_hidden')(shared2)\n",
        "\n",
        "# Create the output layer\n",
        "department_output = layers.Dense(3,activation='softmax',name='department_output')(department_hidden)"
      ]
    },
    {
      "cell_type": "code",
      "execution_count": 30,
      "metadata": {
        "id": "9OqhUiOJUBkR"
      },
      "outputs": [],
      "source": [
        "# Create a branch for Attrition\n",
        "# with a hidden layer and an output layer\n",
        "\n",
        "# Create the hidden layer\n",
        "attrition_hidden = layers.Dense(12, activation='relu', name='attrition_hidden')(shared2)\n",
        "\n",
        "# Create the output layer\n",
        "attrition_output = layers.Dense(1, activation='sigmoid', name='attrition_output')(attrition_hidden)"
      ]
    },
    {
      "cell_type": "code",
      "execution_count": 31,
      "metadata": {
        "colab": {
          "base_uri": "https://localhost:8080/"
        },
        "id": "twmuejdxGc3T",
        "outputId": "7e79bd67-5567-4901-f43a-8d29a5a70ecf"
      },
      "outputs": [
        {
          "output_type": "stream",
          "name": "stdout",
          "text": [
            "Model: \"model\"\n",
            "__________________________________________________________________________________________________\n",
            " Layer (type)                Output Shape                 Param #   Connected to                  \n",
            "==================================================================================================\n",
            " input_features (InputLayer  [(None, 11)]                 0         []                            \n",
            " )                                                                                                \n",
            "                                                                                                  \n",
            " dense (Dense)               (None, 24)                   288       ['input_features[0][0]']      \n",
            "                                                                                                  \n",
            " dense_1 (Dense)             (None, 12)                   300       ['dense[0][0]']               \n",
            "                                                                                                  \n",
            " department_hidden (Dense)   (None, 12)                   156       ['dense_1[0][0]']             \n",
            "                                                                                                  \n",
            " attrition_hidden (Dense)    (None, 12)                   156       ['dense_1[0][0]']             \n",
            "                                                                                                  \n",
            " department_output (Dense)   (None, 3)                    39        ['department_hidden[0][0]']   \n",
            "                                                                                                  \n",
            " attrition_output (Dense)    (None, 1)                    13        ['attrition_hidden[0][0]']    \n",
            "                                                                                                  \n",
            "==================================================================================================\n",
            "Total params: 952 (3.72 KB)\n",
            "Trainable params: 952 (3.72 KB)\n",
            "Non-trainable params: 0 (0.00 Byte)\n",
            "__________________________________________________________________________________________________\n"
          ]
        }
      ],
      "source": [
        "# Create the model\n",
        "model = Model(inputs=input_layer, outputs=[department_output, attrition_output])\n",
        "\n",
        "# Compile the model\n",
        "model.compile(optimizer='adam',loss={'department_output': 'categorical_crossentropy', 'attrition_output': 'binary_crossentropy'},metrics={'department_output': 'accuracy', 'attrition_output': 'accuracy'})\n",
        "\n",
        "# Summarize the model\n",
        "model.summary()"
      ]
    },
    {
      "cell_type": "code",
      "execution_count": 33,
      "metadata": {
        "colab": {
          "base_uri": "https://localhost:8080/"
        },
        "id": "c8oGy0dpGc3U",
        "outputId": "4ff7bcb0-6507-4368-bcfe-7e420245c549"
      },
      "outputs": [
        {
          "output_type": "stream",
          "name": "stdout",
          "text": [
            "Epoch 1/50\n",
            "94/94 [==============================] - 2s 8ms/step - loss: 2.9495 - department_output_loss: 1.3025 - attrition_output_loss: 1.6470 - department_output_accuracy: 0.5809 - attrition_output_accuracy: 0.8309 - val_loss: 1.4887 - val_department_output_loss: 1.0145 - val_attrition_output_loss: 0.4742 - val_department_output_accuracy: 0.6059 - val_attrition_output_accuracy: 0.7797\n",
            "Epoch 2/50\n",
            "94/94 [==============================] - 0s 4ms/step - loss: 1.4762 - department_output_loss: 0.9983 - attrition_output_loss: 0.4779 - department_output_accuracy: 0.5840 - attrition_output_accuracy: 0.8255 - val_loss: 1.4851 - val_department_output_loss: 1.0186 - val_attrition_output_loss: 0.4665 - val_department_output_accuracy: 0.4322 - val_attrition_output_accuracy: 0.7966\n",
            "Epoch 3/50\n",
            "94/94 [==============================] - 0s 5ms/step - loss: 1.3384 - department_output_loss: 0.8844 - attrition_output_loss: 0.4540 - department_output_accuracy: 0.6032 - attrition_output_accuracy: 0.8383 - val_loss: 1.4076 - val_department_output_loss: 0.9507 - val_attrition_output_loss: 0.4569 - val_department_output_accuracy: 0.5551 - val_attrition_output_accuracy: 0.7966\n",
            "Epoch 4/50\n",
            "94/94 [==============================] - 0s 4ms/step - loss: 1.3188 - department_output_loss: 0.8732 - attrition_output_loss: 0.4456 - department_output_accuracy: 0.6170 - attrition_output_accuracy: 0.8415 - val_loss: 1.3721 - val_department_output_loss: 0.9132 - val_attrition_output_loss: 0.4590 - val_department_output_accuracy: 0.5508 - val_attrition_output_accuracy: 0.8051\n",
            "Epoch 5/50\n",
            "94/94 [==============================] - 0s 4ms/step - loss: 1.2703 - department_output_loss: 0.8363 - attrition_output_loss: 0.4340 - department_output_accuracy: 0.6287 - attrition_output_accuracy: 0.8447 - val_loss: 1.4785 - val_department_output_loss: 1.0255 - val_attrition_output_loss: 0.4529 - val_department_output_accuracy: 0.6271 - val_attrition_output_accuracy: 0.8093\n",
            "Epoch 6/50\n",
            "94/94 [==============================] - 0s 4ms/step - loss: 1.2706 - department_output_loss: 0.8315 - attrition_output_loss: 0.4392 - department_output_accuracy: 0.6149 - attrition_output_accuracy: 0.8426 - val_loss: 1.3571 - val_department_output_loss: 0.9017 - val_attrition_output_loss: 0.4554 - val_department_output_accuracy: 0.6102 - val_attrition_output_accuracy: 0.8008\n",
            "Epoch 7/50\n",
            "94/94 [==============================] - 0s 4ms/step - loss: 1.2526 - department_output_loss: 0.8280 - attrition_output_loss: 0.4247 - department_output_accuracy: 0.6287 - attrition_output_accuracy: 0.8415 - val_loss: 1.3296 - val_department_output_loss: 0.8733 - val_attrition_output_loss: 0.4563 - val_department_output_accuracy: 0.6102 - val_attrition_output_accuracy: 0.8008\n",
            "Epoch 8/50\n",
            "94/94 [==============================] - 0s 3ms/step - loss: 1.2505 - department_output_loss: 0.8258 - attrition_output_loss: 0.4246 - department_output_accuracy: 0.6266 - attrition_output_accuracy: 0.8415 - val_loss: 1.3357 - val_department_output_loss: 0.8864 - val_attrition_output_loss: 0.4494 - val_department_output_accuracy: 0.5932 - val_attrition_output_accuracy: 0.8051\n",
            "Epoch 9/50\n",
            "94/94 [==============================] - 0s 4ms/step - loss: 1.2354 - department_output_loss: 0.8133 - attrition_output_loss: 0.4221 - department_output_accuracy: 0.6298 - attrition_output_accuracy: 0.8415 - val_loss: 1.4048 - val_department_output_loss: 0.9394 - val_attrition_output_loss: 0.4654 - val_department_output_accuracy: 0.6314 - val_attrition_output_accuracy: 0.7966\n",
            "Epoch 10/50\n",
            "94/94 [==============================] - 0s 4ms/step - loss: 1.2227 - department_output_loss: 0.7942 - attrition_output_loss: 0.4285 - department_output_accuracy: 0.6500 - attrition_output_accuracy: 0.8383 - val_loss: 1.3588 - val_department_output_loss: 0.8876 - val_attrition_output_loss: 0.4712 - val_department_output_accuracy: 0.6186 - val_attrition_output_accuracy: 0.7966\n",
            "Epoch 11/50\n",
            "94/94 [==============================] - 0s 4ms/step - loss: 1.2333 - department_output_loss: 0.8073 - attrition_output_loss: 0.4260 - department_output_accuracy: 0.6511 - attrition_output_accuracy: 0.8415 - val_loss: 1.3407 - val_department_output_loss: 0.8763 - val_attrition_output_loss: 0.4644 - val_department_output_accuracy: 0.6271 - val_attrition_output_accuracy: 0.7966\n",
            "Epoch 12/50\n",
            "94/94 [==============================] - 0s 3ms/step - loss: 1.2385 - department_output_loss: 0.8223 - attrition_output_loss: 0.4162 - department_output_accuracy: 0.6277 - attrition_output_accuracy: 0.8426 - val_loss: 1.3429 - val_department_output_loss: 0.8771 - val_attrition_output_loss: 0.4658 - val_department_output_accuracy: 0.6271 - val_attrition_output_accuracy: 0.7966\n",
            "Epoch 13/50\n",
            "94/94 [==============================] - 0s 3ms/step - loss: 1.2241 - department_output_loss: 0.7957 - attrition_output_loss: 0.4283 - department_output_accuracy: 0.6479 - attrition_output_accuracy: 0.8372 - val_loss: 1.3508 - val_department_output_loss: 0.8784 - val_attrition_output_loss: 0.4724 - val_department_output_accuracy: 0.6229 - val_attrition_output_accuracy: 0.7924\n",
            "Epoch 14/50\n",
            "94/94 [==============================] - 0s 3ms/step - loss: 1.2237 - department_output_loss: 0.8037 - attrition_output_loss: 0.4200 - department_output_accuracy: 0.6223 - attrition_output_accuracy: 0.8426 - val_loss: 1.3488 - val_department_output_loss: 0.8861 - val_attrition_output_loss: 0.4627 - val_department_output_accuracy: 0.6102 - val_attrition_output_accuracy: 0.8008\n",
            "Epoch 15/50\n",
            "94/94 [==============================] - 0s 3ms/step - loss: 1.1950 - department_output_loss: 0.7820 - attrition_output_loss: 0.4130 - department_output_accuracy: 0.6489 - attrition_output_accuracy: 0.8404 - val_loss: 1.3656 - val_department_output_loss: 0.8991 - val_attrition_output_loss: 0.4664 - val_department_output_accuracy: 0.5042 - val_attrition_output_accuracy: 0.7966\n",
            "Epoch 16/50\n",
            "94/94 [==============================] - 0s 3ms/step - loss: 1.2187 - department_output_loss: 0.8050 - attrition_output_loss: 0.4137 - department_output_accuracy: 0.6202 - attrition_output_accuracy: 0.8436 - val_loss: 1.3732 - val_department_output_loss: 0.8866 - val_attrition_output_loss: 0.4867 - val_department_output_accuracy: 0.6017 - val_attrition_output_accuracy: 0.7966\n",
            "Epoch 17/50\n",
            "94/94 [==============================] - 0s 3ms/step - loss: 1.1925 - department_output_loss: 0.7859 - attrition_output_loss: 0.4066 - department_output_accuracy: 0.6479 - attrition_output_accuracy: 0.8383 - val_loss: 1.4089 - val_department_output_loss: 0.9322 - val_attrition_output_loss: 0.4766 - val_department_output_accuracy: 0.4110 - val_attrition_output_accuracy: 0.8008\n",
            "Epoch 18/50\n",
            "94/94 [==============================] - 0s 4ms/step - loss: 1.1994 - department_output_loss: 0.7858 - attrition_output_loss: 0.4136 - department_output_accuracy: 0.6404 - attrition_output_accuracy: 0.8404 - val_loss: 1.4116 - val_department_output_loss: 0.9455 - val_attrition_output_loss: 0.4661 - val_department_output_accuracy: 0.6186 - val_attrition_output_accuracy: 0.8008\n",
            "Epoch 19/50\n",
            "94/94 [==============================] - 0s 3ms/step - loss: 1.2038 - department_output_loss: 0.7916 - attrition_output_loss: 0.4122 - department_output_accuracy: 0.6287 - attrition_output_accuracy: 0.8394 - val_loss: 1.3487 - val_department_output_loss: 0.8680 - val_attrition_output_loss: 0.4807 - val_department_output_accuracy: 0.6017 - val_attrition_output_accuracy: 0.8008\n",
            "Epoch 20/50\n",
            "94/94 [==============================] - 0s 5ms/step - loss: 1.1948 - department_output_loss: 0.7763 - attrition_output_loss: 0.4185 - department_output_accuracy: 0.6415 - attrition_output_accuracy: 0.8426 - val_loss: 1.3361 - val_department_output_loss: 0.8645 - val_attrition_output_loss: 0.4716 - val_department_output_accuracy: 0.5932 - val_attrition_output_accuracy: 0.8051\n",
            "Epoch 21/50\n",
            "94/94 [==============================] - 1s 6ms/step - loss: 1.1774 - department_output_loss: 0.7726 - attrition_output_loss: 0.4048 - department_output_accuracy: 0.6479 - attrition_output_accuracy: 0.8394 - val_loss: 1.5067 - val_department_output_loss: 1.0125 - val_attrition_output_loss: 0.4942 - val_department_output_accuracy: 0.6229 - val_attrition_output_accuracy: 0.8008\n",
            "Epoch 22/50\n",
            "94/94 [==============================] - 0s 5ms/step - loss: 1.2144 - department_output_loss: 0.7993 - attrition_output_loss: 0.4151 - department_output_accuracy: 0.6436 - attrition_output_accuracy: 0.8383 - val_loss: 1.3569 - val_department_output_loss: 0.8772 - val_attrition_output_loss: 0.4797 - val_department_output_accuracy: 0.6144 - val_attrition_output_accuracy: 0.8051\n",
            "Epoch 23/50\n",
            "94/94 [==============================] - 1s 5ms/step - loss: 1.1950 - department_output_loss: 0.7806 - attrition_output_loss: 0.4144 - department_output_accuracy: 0.6543 - attrition_output_accuracy: 0.8447 - val_loss: 1.3816 - val_department_output_loss: 0.9054 - val_attrition_output_loss: 0.4762 - val_department_output_accuracy: 0.6186 - val_attrition_output_accuracy: 0.8051\n",
            "Epoch 24/50\n",
            "94/94 [==============================] - 1s 6ms/step - loss: 1.1843 - department_output_loss: 0.7777 - attrition_output_loss: 0.4066 - department_output_accuracy: 0.6479 - attrition_output_accuracy: 0.8426 - val_loss: 1.3922 - val_department_output_loss: 0.9243 - val_attrition_output_loss: 0.4679 - val_department_output_accuracy: 0.6186 - val_attrition_output_accuracy: 0.8051\n",
            "Epoch 25/50\n",
            "94/94 [==============================] - 0s 4ms/step - loss: 1.1843 - department_output_loss: 0.7745 - attrition_output_loss: 0.4098 - department_output_accuracy: 0.6500 - attrition_output_accuracy: 0.8447 - val_loss: 1.4050 - val_department_output_loss: 0.9345 - val_attrition_output_loss: 0.4705 - val_department_output_accuracy: 0.6229 - val_attrition_output_accuracy: 0.8051\n",
            "Epoch 26/50\n",
            "94/94 [==============================] - 0s 3ms/step - loss: 1.1797 - department_output_loss: 0.7716 - attrition_output_loss: 0.4081 - department_output_accuracy: 0.6447 - attrition_output_accuracy: 0.8415 - val_loss: 1.3461 - val_department_output_loss: 0.8669 - val_attrition_output_loss: 0.4792 - val_department_output_accuracy: 0.6144 - val_attrition_output_accuracy: 0.8051\n",
            "Epoch 27/50\n",
            "94/94 [==============================] - 0s 3ms/step - loss: 1.1828 - department_output_loss: 0.7807 - attrition_output_loss: 0.4022 - department_output_accuracy: 0.6596 - attrition_output_accuracy: 0.8468 - val_loss: 1.3453 - val_department_output_loss: 0.8571 - val_attrition_output_loss: 0.4882 - val_department_output_accuracy: 0.6102 - val_attrition_output_accuracy: 0.8008\n",
            "Epoch 28/50\n",
            "94/94 [==============================] - 0s 3ms/step - loss: 1.1743 - department_output_loss: 0.7690 - attrition_output_loss: 0.4052 - department_output_accuracy: 0.6564 - attrition_output_accuracy: 0.8426 - val_loss: 1.3628 - val_department_output_loss: 0.8757 - val_attrition_output_loss: 0.4871 - val_department_output_accuracy: 0.6102 - val_attrition_output_accuracy: 0.8051\n",
            "Epoch 29/50\n",
            "94/94 [==============================] - 0s 3ms/step - loss: 1.1789 - department_output_loss: 0.7775 - attrition_output_loss: 0.4013 - department_output_accuracy: 0.6426 - attrition_output_accuracy: 0.8447 - val_loss: 1.3837 - val_department_output_loss: 0.9012 - val_attrition_output_loss: 0.4825 - val_department_output_accuracy: 0.4873 - val_attrition_output_accuracy: 0.8051\n",
            "Epoch 30/50\n",
            "94/94 [==============================] - 0s 4ms/step - loss: 1.1661 - department_output_loss: 0.7644 - attrition_output_loss: 0.4017 - department_output_accuracy: 0.6543 - attrition_output_accuracy: 0.8447 - val_loss: 1.3644 - val_department_output_loss: 0.8902 - val_attrition_output_loss: 0.4742 - val_department_output_accuracy: 0.6229 - val_attrition_output_accuracy: 0.8051\n",
            "Epoch 31/50\n",
            "94/94 [==============================] - 0s 3ms/step - loss: 1.1690 - department_output_loss: 0.7643 - attrition_output_loss: 0.4047 - department_output_accuracy: 0.6564 - attrition_output_accuracy: 0.8447 - val_loss: 1.3555 - val_department_output_loss: 0.8755 - val_attrition_output_loss: 0.4800 - val_department_output_accuracy: 0.6186 - val_attrition_output_accuracy: 0.8051\n",
            "Epoch 32/50\n",
            "94/94 [==============================] - 0s 3ms/step - loss: 1.1625 - department_output_loss: 0.7623 - attrition_output_loss: 0.4002 - department_output_accuracy: 0.6394 - attrition_output_accuracy: 0.8447 - val_loss: 1.4152 - val_department_output_loss: 0.9271 - val_attrition_output_loss: 0.4881 - val_department_output_accuracy: 0.6229 - val_attrition_output_accuracy: 0.8051\n",
            "Epoch 33/50\n",
            "94/94 [==============================] - 0s 3ms/step - loss: 1.1644 - department_output_loss: 0.7650 - attrition_output_loss: 0.3993 - department_output_accuracy: 0.6521 - attrition_output_accuracy: 0.8404 - val_loss: 1.3440 - val_department_output_loss: 0.8589 - val_attrition_output_loss: 0.4851 - val_department_output_accuracy: 0.6186 - val_attrition_output_accuracy: 0.8051\n",
            "Epoch 34/50\n",
            "94/94 [==============================] - 0s 3ms/step - loss: 1.1736 - department_output_loss: 0.7708 - attrition_output_loss: 0.4028 - department_output_accuracy: 0.6511 - attrition_output_accuracy: 0.8436 - val_loss: 1.3435 - val_department_output_loss: 0.8568 - val_attrition_output_loss: 0.4867 - val_department_output_accuracy: 0.6059 - val_attrition_output_accuracy: 0.8051\n",
            "Epoch 35/50\n",
            "94/94 [==============================] - 0s 3ms/step - loss: 1.1714 - department_output_loss: 0.7729 - attrition_output_loss: 0.3985 - department_output_accuracy: 0.6500 - attrition_output_accuracy: 0.8436 - val_loss: 1.3932 - val_department_output_loss: 0.8752 - val_attrition_output_loss: 0.5180 - val_department_output_accuracy: 0.6186 - val_attrition_output_accuracy: 0.8008\n",
            "Epoch 36/50\n",
            "94/94 [==============================] - 0s 3ms/step - loss: 1.1732 - department_output_loss: 0.7708 - attrition_output_loss: 0.4024 - department_output_accuracy: 0.6553 - attrition_output_accuracy: 0.8426 - val_loss: 1.3911 - val_department_output_loss: 0.9080 - val_attrition_output_loss: 0.4831 - val_department_output_accuracy: 0.4534 - val_attrition_output_accuracy: 0.8051\n",
            "Epoch 37/50\n",
            "94/94 [==============================] - 0s 4ms/step - loss: 1.1746 - department_output_loss: 0.7803 - attrition_output_loss: 0.3944 - department_output_accuracy: 0.6277 - attrition_output_accuracy: 0.8436 - val_loss: 1.3508 - val_department_output_loss: 0.8696 - val_attrition_output_loss: 0.4812 - val_department_output_accuracy: 0.6229 - val_attrition_output_accuracy: 0.8051\n",
            "Epoch 38/50\n",
            "94/94 [==============================] - 0s 4ms/step - loss: 1.1548 - department_output_loss: 0.7627 - attrition_output_loss: 0.3921 - department_output_accuracy: 0.6479 - attrition_output_accuracy: 0.8426 - val_loss: 1.3302 - val_department_output_loss: 0.8507 - val_attrition_output_loss: 0.4795 - val_department_output_accuracy: 0.6186 - val_attrition_output_accuracy: 0.8051\n",
            "Epoch 39/50\n",
            "94/94 [==============================] - 0s 4ms/step - loss: 1.1615 - department_output_loss: 0.7669 - attrition_output_loss: 0.3946 - department_output_accuracy: 0.6511 - attrition_output_accuracy: 0.8457 - val_loss: 1.3356 - val_department_output_loss: 0.8538 - val_attrition_output_loss: 0.4818 - val_department_output_accuracy: 0.6186 - val_attrition_output_accuracy: 0.8008\n",
            "Epoch 40/50\n",
            "94/94 [==============================] - 0s 3ms/step - loss: 1.1555 - department_output_loss: 0.7629 - attrition_output_loss: 0.3926 - department_output_accuracy: 0.6404 - attrition_output_accuracy: 0.8415 - val_loss: 1.3589 - val_department_output_loss: 0.8531 - val_attrition_output_loss: 0.5058 - val_department_output_accuracy: 0.6186 - val_attrition_output_accuracy: 0.8051\n",
            "Epoch 41/50\n",
            "94/94 [==============================] - 0s 4ms/step - loss: 1.1639 - department_output_loss: 0.7654 - attrition_output_loss: 0.3986 - department_output_accuracy: 0.6617 - attrition_output_accuracy: 0.8468 - val_loss: 1.3415 - val_department_output_loss: 0.8544 - val_attrition_output_loss: 0.4870 - val_department_output_accuracy: 0.6229 - val_attrition_output_accuracy: 0.8051\n",
            "Epoch 42/50\n",
            "94/94 [==============================] - 0s 4ms/step - loss: 1.1527 - department_output_loss: 0.7598 - attrition_output_loss: 0.3929 - department_output_accuracy: 0.6606 - attrition_output_accuracy: 0.8426 - val_loss: 1.3487 - val_department_output_loss: 0.8581 - val_attrition_output_loss: 0.4906 - val_department_output_accuracy: 0.6229 - val_attrition_output_accuracy: 0.8051\n",
            "Epoch 43/50\n",
            "94/94 [==============================] - 0s 4ms/step - loss: 1.1637 - department_output_loss: 0.7698 - attrition_output_loss: 0.3938 - department_output_accuracy: 0.6489 - attrition_output_accuracy: 0.8436 - val_loss: 1.3396 - val_department_output_loss: 0.8548 - val_attrition_output_loss: 0.4848 - val_department_output_accuracy: 0.6229 - val_attrition_output_accuracy: 0.8008\n",
            "Epoch 44/50\n",
            "94/94 [==============================] - 0s 4ms/step - loss: 1.1670 - department_output_loss: 0.7656 - attrition_output_loss: 0.4014 - department_output_accuracy: 0.6596 - attrition_output_accuracy: 0.8468 - val_loss: 1.3413 - val_department_output_loss: 0.8544 - val_attrition_output_loss: 0.4869 - val_department_output_accuracy: 0.6144 - val_attrition_output_accuracy: 0.8051\n",
            "Epoch 45/50\n",
            "94/94 [==============================] - 0s 4ms/step - loss: 1.1555 - department_output_loss: 0.7627 - attrition_output_loss: 0.3928 - department_output_accuracy: 0.6532 - attrition_output_accuracy: 0.8415 - val_loss: 1.3397 - val_department_output_loss: 0.8565 - val_attrition_output_loss: 0.4832 - val_department_output_accuracy: 0.6186 - val_attrition_output_accuracy: 0.8051\n",
            "Epoch 46/50\n",
            "94/94 [==============================] - 0s 3ms/step - loss: 1.1548 - department_output_loss: 0.7628 - attrition_output_loss: 0.3920 - department_output_accuracy: 0.6564 - attrition_output_accuracy: 0.8447 - val_loss: 1.3869 - val_department_output_loss: 0.8932 - val_attrition_output_loss: 0.4936 - val_department_output_accuracy: 0.6229 - val_attrition_output_accuracy: 0.8051\n",
            "Epoch 47/50\n",
            "94/94 [==============================] - 0s 3ms/step - loss: 1.1569 - department_output_loss: 0.7611 - attrition_output_loss: 0.3957 - department_output_accuracy: 0.6585 - attrition_output_accuracy: 0.8436 - val_loss: 1.3451 - val_department_output_loss: 0.8587 - val_attrition_output_loss: 0.4864 - val_department_output_accuracy: 0.6186 - val_attrition_output_accuracy: 0.8051\n",
            "Epoch 48/50\n",
            "94/94 [==============================] - 0s 4ms/step - loss: 1.1593 - department_output_loss: 0.7696 - attrition_output_loss: 0.3897 - department_output_accuracy: 0.6468 - attrition_output_accuracy: 0.8457 - val_loss: 1.3772 - val_department_output_loss: 0.8631 - val_attrition_output_loss: 0.5141 - val_department_output_accuracy: 0.6144 - val_attrition_output_accuracy: 0.8051\n",
            "Epoch 49/50\n",
            "94/94 [==============================] - 0s 3ms/step - loss: 1.1509 - department_output_loss: 0.7553 - attrition_output_loss: 0.3956 - department_output_accuracy: 0.6574 - attrition_output_accuracy: 0.8457 - val_loss: 1.3486 - val_department_output_loss: 0.8625 - val_attrition_output_loss: 0.4861 - val_department_output_accuracy: 0.5932 - val_attrition_output_accuracy: 0.8051\n",
            "Epoch 50/50\n",
            "94/94 [==============================] - 0s 4ms/step - loss: 1.1542 - department_output_loss: 0.7608 - attrition_output_loss: 0.3934 - department_output_accuracy: 0.6574 - attrition_output_accuracy: 0.8447 - val_loss: 1.3444 - val_department_output_loss: 0.8573 - val_attrition_output_loss: 0.4871 - val_department_output_accuracy: 0.6186 - val_attrition_output_accuracy: 0.8008\n"
          ]
        },
        {
          "output_type": "execute_result",
          "data": {
            "text/plain": [
              "<keras.src.callbacks.History at 0x7e273cde6470>"
            ]
          },
          "metadata": {},
          "execution_count": 33
        }
      ],
      "source": [
        "# Train the model\n",
        "model.fit(X_train,\n",
        "          {'department_output': y_D_train_encoded,\n",
        "            'attrition_output': y_attr_train_encoded,\n",
        "           },epochs=50,batch_size=10,validation_split=0.2)"
      ]
    },
    {
      "cell_type": "code",
      "execution_count": 34,
      "metadata": {
        "colab": {
          "base_uri": "https://localhost:8080/"
        },
        "id": "VsMoaQlgGc3U",
        "outputId": "ed3e4cc2-8fa9-4bb3-fb17-ec617010ad6b"
      },
      "outputs": [
        {
          "output_type": "stream",
          "name": "stdout",
          "text": [
            "10/10 [==============================] - 0s 4ms/step - loss: 1.1813 - department_output_loss: 0.7863 - attrition_output_loss: 0.3950 - department_output_accuracy: 0.6497 - attrition_output_accuracy: 0.8639\n"
          ]
        }
      ],
      "source": [
        "# Evaluate the model with the testing data\n",
        "results = model.evaluate((X_test),{\n",
        "    'department_output': y_D_test_encoded,\n",
        "    'attrition_output': y_attr_test_encoded\n",
        "    })"
      ]
    },
    {
      "cell_type": "code",
      "execution_count": 35,
      "metadata": {
        "colab": {
          "base_uri": "https://localhost:8080/"
        },
        "id": "ZlCtlHi0Vt54",
        "outputId": "840f3c9d-c54a-4ae2-c541-a9dcf72cb09b"
      },
      "outputs": [
        {
          "output_type": "stream",
          "name": "stdout",
          "text": [
            "department accuracy: 0.7862918972969055\n",
            "attrition accuracy: 0.3949783444404602\n"
          ]
        }
      ],
      "source": [
        "# Print the accuracy for both department and attrition\n",
        "pred_categories = ['department','attrition']\n",
        "for i, cat in enumerate(pred_categories):\n",
        "    print(f\"{cat} accuracy: {results[i+1]}\")"
      ]
    },
    {
      "cell_type": "markdown",
      "metadata": {
        "id": "eGSyfsZfWOQM"
      },
      "source": [
        "# Summary\n",
        "\n",
        "In the provided space below, briefly answer the following questions.\n",
        "\n",
        "1. Is accuracy the best metric to use on this data? Why or why not?\n",
        "\n",
        "2. What activation functions did you choose for your output layers, and why?\n",
        "\n",
        "3. Can you name a few ways that this model might be improved?"
      ]
    },
    {
      "cell_type": "markdown",
      "metadata": {
        "id": "pi9SLpFnWvbF"
      },
      "source": [
        "YOUR ANSWERS HERE\n",
        "\n",
        "1. Accuracy may not be the best metric due to class imbalance, particularly in the attrition and department classes. Alternative evaluation metrics like Precision, Recall, F1-score, and AUC-ROC could provide a more comprehensive understanding of model performance.\n",
        "2. I chose softmax activation for the output layer predicting department because it involves multiclass classification with three classes. For the output layer predicting attrition, I opted for sigmoid activation since it deals with binary classification.\n",
        "3. There are several avenues to enhance model performance:\n",
        "Balancing class targets to address class imbalance.\n",
        "Identifying and removing outliers in the data.\n",
        "Conducting feature engineering to extract more meaningful information from the data. Experimenting with different network architectures, including adjustments to depth, width, and activation functions."
      ]
    },
    {
      "cell_type": "markdown",
      "metadata": {
        "id": "qIJa-4MsZIgA"
      },
      "source": []
    }
  ],
  "metadata": {
    "colab": {
      "provenance": []
    },
    "kernelspec": {
      "display_name": "Python 3",
      "language": "python",
      "name": "python3"
    },
    "language_info": {
      "codemirror_mode": {
        "name": "ipython",
        "version": 3
      },
      "file_extension": ".py",
      "mimetype": "text/x-python",
      "name": "python",
      "nbconvert_exporter": "python",
      "pygments_lexer": "ipython3",
      "version": "3.9.18"
    },
    "vscode": {
      "interpreter": {
        "hash": "31f2aee4e71d21fbe5cf8b01ff0e069b9275f58929596ceb00d14d90e3e16cd6"
      }
    }
  },
  "nbformat": 4,
  "nbformat_minor": 0
}